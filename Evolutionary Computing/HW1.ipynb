{
  "cells": [
    {
      "metadata": {
        "trusted": true
      },
      "cell_type": "code",
      "source": "predefined_chromosomes1 = [\n    [0, 1, 0, 1, 1, 1, 0, 1, 1, 1],\n    [0, 1, 1, 1, 0, 0, 1, 0, 0, 1],\n    [0, 0, 1, 1, 0, 0, 1, 0, 0, 1],\n    [1, 1, 1, 0, 1, 0, 1, 1, 0, 0],\n    [1, 0, 0, 0, 0, 1, 0, 0, 1, 0],\n    [0, 0, 0, 0, 1, 0, 0, 0, 1, 0]\n]\n\nclass Individual:\n    def __init__(self, chromosome, fitness):\n        self.chromosome = chromosome\n        self.fitness = fitness\n        self.chromosome_string = ''.join([ str(b) for b in self.chromosome ])\n    def __repr__(self):\n        return self.chromosome_string\n    def genotype(self):\n        return self.chromosome_string\n    \ndef fitness_func1(chromosome):\n    return sum(chromosome)\n\npopulation1 = [ Individual(ind, fitness_func1(ind)) for ind in predefined_chromosomes1 ]\n\ndef sliding_tourney(pop, m):\n    n = len(pop)\n    mating_pool = []\n    start = 0\n    while len(mating_pool) < n:\n        indices = list(range(start, start + m, 1))\n        circular = [ i if i < n else i - n for i in indices ]\n        tournament = [ pop[i] for i in circular ]\n        fit_vals = [ ind.fitness for ind in tournament ]\n        winner = fit_vals.index(max(fit_vals))\n        mating_pool.append(tournament[winner])\n        start += 1\n    return mating_pool\nwindow3_pool = sliding_tourney(population1, 3)\n\nwindow3_genotypes = [ ind.genotype() for ind in window3_pool ]\nprint(\"how many copies of each chromosome are in the mating pool?\\n\",\n      {i: window3_genotypes.count(i) for i in window3_genotypes}\n)\n\nwindow3_fitnesses = [ ind.fitness for ind in window3_pool ]\nprint(\"what is the average fitness of the chromosomes in the mating pool?\\n\",\n      sum(window3_fitnesses) / len(window3_fitnesses)\n)\n\nwindow1_pool = sliding_tourney(population1, 1)\nwindow1_genotypes = [ ind.genotype() for ind in window1_pool ]\nwindow1_counts = {i: window1_genotypes.count(i) for i in window1_genotypes}\nprint(\"If the tournament size is reduced to one,\\n\",\n      \"what is the probability that the chromosome 1110101100 appears in the mating pool?\\n\",\n      \"Trivially 100%, but here is demonstrated:\\n\",\n      list(window1_counts.items())[window1_counts['1110101100']]\n)\n\nwindow5_pool = sliding_tourney(population1, 5)\nwindow5_genotypes = [ ind.genotype() for ind in window5_pool ]\nwindow5_counts = {i: window5_genotypes.count(i) for i in window5_genotypes}\nprint(\"If the tournament size is increased to five,\\n\",\n    \"what is the probability that the chromosome 0111001001 appears in the mating pool?\\n\",\n    window5_counts.get('0111001001'), \" so 0%\"\n)",
      "execution_count": 1,
      "outputs": [
        {
          "output_type": "stream",
          "text": "how many copies of each chromosome are in the mating pool?\n {'0101110111': 3, '1110101100': 3}\nwhat is the average fitness of the chromosomes in the mating pool?\n 6.5\nIf the tournament size is reduced to one,\n what is the probability that the chromosome 1110101100 appears in the mating pool?\n Trivially 100%, but here is demonstrated:\n ('0111001001', 1)\nIf the tournament size is increased to five,\n what is the probability that the chromosome 0111001001 appears in the mating pool?\n None  so 0%\n",
          "name": "stdout"
        }
      ]
    },
    {
      "metadata": {
        "trusted": true
      },
      "cell_type": "code",
      "source": "x = [0.23, 0.57, 0.29, 0.44, 0.44]\ny = [0.63, 0.82, 0.62, 0.15, 0.51]\n\ndef whole_arithCross(p1, p2, alpha):\n    n = len(p1)\n    o1 = [0] * n\n    o2 = [0] * n\n    i = 0\n    while i < n:\n        o1[i] = (alpha * p1[i]) + ((1 - alpha) * p2[i])\n        o2[i] = (alpha * p2[i]) + ((1 - alpha) * p1[i])\n        i += 1\n    return o1, o2\n\nprint(\"Offsprings of whole arithmetic crossover with alpha = 0.5\\n\",\n      whole_arithCross(x, y, 0.5)\n)\n\nprint(\"Offsprings of whole arithmetic crossover with alpha = 0.1\\n\",\n      whole_arithCross(x, y, 0.1)\n)",
      "execution_count": 2,
      "outputs": [
        {
          "output_type": "stream",
          "text": "Offsprings of whole arithmetic crossover with alpha = 0.5\n ([0.43, 0.695, 0.45499999999999996, 0.295, 0.475], [0.43, 0.695, 0.45499999999999996, 0.295, 0.475])\nOffsprings of whole arithmetic crossover with alpha = 0.1\n ([0.5900000000000001, 0.7949999999999999, 0.5870000000000001, 0.17900000000000002, 0.503], [0.27, 0.595, 0.323, 0.41100000000000003, 0.447])\n",
          "name": "stdout"
        }
      ]
    },
    {
      "metadata": {
        "trusted": true
      },
      "cell_type": "code",
      "source": "predefined_chromosomes2 = [\n    ['A', 'A', 'O', 'O', 'E', 'I', 'I', 'I', 'O', 'E', 'A'],\n    ['E', 'E', 'O', 'U', 'E', 'O'],\n    ['U', 'U', 'I', 'O', 'O', 'A', 'A', 'I', 'E', 'E', 'O'],\n    ['A', 'A', 'A', 'E', 'E', 'E', 'I', 'I', 'I', 'O', 'U', 'U', 'U'],\n    ['A', 'U', 'E', 'I', 'O', 'U', 'O', 'O', 'E', 'E', 'I', 'I', 'U', 'I', 'A']\n]\n\ndef fitness_func2(chromosome):\n    ocurrences = list( {i: chromosome.count(i) for i in chromosome}.values() )\n    return sum(ocurrences) - len(ocurrences)\n\npopulation2 = [ Individual(ind, fitness_func2(ind)) for ind in predefined_chromosomes2 ]\n\npopulation2_fitnesses = [ind.fitness for ind in population2]\nprint(\"Probabilities of selection by roulette wheel:\\n\",\n      [ i / sum(population2_fitnesses) for i in population2_fitnesses ]\n)\n\nimport scipy.stats as ss\npopulation2_ranks = [ i - 1 for i in ss.rankdata(population2_fitnesses) ]\nC = 2\npopulation2_adjfitlin = [ (C / (len(population2_ranks) - 1)) * r for r in population2_ranks ]\nprint(\"Probabilities of selection by linear ranking with parameter C = 2:\\n\",\n      [ i / sum(population2_adjfitlin) for i in population2_adjfitlin ]\n)\n\nm = 3\npopulation2_adjfitexp = [ m * ((r / (len(population2_ranks) - 1)) ** (m - 1)) for r in population2_ranks ]\nprint(\"Probabilities of selection by exponential ranking with parameter m = 3:\\n\",\n      [ i / sum(population2_adjfitexp) for i in population2_adjfitexp ]\n)",
      "execution_count": 3,
      "outputs": [
        {
          "output_type": "stream",
          "text": "Probabilities of selection by roulette wheel:\n [0.20588235294117646, 0.08823529411764706, 0.17647058823529413, 0.23529411764705882, 0.29411764705882354]\nProbabilities of selection by linear ranking with parameter C = 2:\n [0.2, 0.0, 0.1, 0.3, 0.4]\nProbabilities of selection by exponential ranking with parameter m = 3:\n [0.13333333333333333, 0.0, 0.03333333333333333, 0.3, 0.5333333333333333]\n",
          "name": "stdout"
        }
      ]
    },
    {
      "metadata": {
        "trusted": true
      },
      "cell_type": "code",
      "source": "",
      "execution_count": null,
      "outputs": []
    }
  ],
  "metadata": {
    "kernelspec": {
      "name": "python36",
      "display_name": "Python 3.6",
      "language": "python"
    },
    "language_info": {
      "mimetype": "text/x-python",
      "nbconvert_exporter": "python",
      "name": "python",
      "pygments_lexer": "ipython3",
      "version": "3.6.6",
      "file_extension": ".py",
      "codemirror_mode": {
        "version": 3,
        "name": "ipython"
      }
    }
  },
  "nbformat": 4,
  "nbformat_minor": 2
}