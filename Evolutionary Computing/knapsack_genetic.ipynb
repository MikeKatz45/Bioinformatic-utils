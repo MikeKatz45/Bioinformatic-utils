{
 "cells": [
  {
   "cell_type": "markdown",
   "metadata": {},
   "source": [
    "# Knapsack Problem - Genetic Algorithms\n",
    "\n",
    "\n",
    "`Carlos Alfonso Hinojosa Cavada | A01137566`\n",
    "\n",
    "`Miguel Angel Cortes Guzman | A01270966`\n",
    "\n",
    "`Jesus Eider Diaz Moraila | A00828174`"
   ]
  },
  {
   "cell_type": "markdown",
   "metadata": {},
   "source": [
    "## Representation"
   ]
  },
  {
   "cell_type": "code",
   "execution_count": 1,
   "metadata": {
    "tags": []
   },
   "outputs": [],
   "source": [
    "import random\n",
    "import numpy\n",
    "import pandas as pd\n",
    "import os\n",
    "\n",
    "# Implements the random initialization of individuals using a permutation representation.\n",
    "def createIndividual(nbBits):\n",
    "  return numpy.random.permutation(nbBits)"
   ]
  },
  {
   "cell_type": "markdown",
   "metadata": {},
   "source": [
    "## Selection"
   ]
  },
  {
   "cell_type": "code",
   "execution_count": 2,
   "metadata": {},
   "outputs": [],
   "source": [
    "# Implements the tournament selection.\n",
    "def select(population, evaluation, tournamentSize):\n",
    "  winner = numpy.random.randint(0, len(population))\n",
    "  for i in range(tournamentSize - 1):\n",
    "    rival = numpy.random.randint(0, len(population))\n",
    "    if (evaluation[rival] < evaluation[winner]):\n",
    "      winner = rival\n",
    "  return population[winner]"
   ]
  },
  {
   "cell_type": "markdown",
   "metadata": {},
   "source": [
    "## Crossover"
   ]
  },
  {
   "cell_type": "code",
   "execution_count": 3,
   "metadata": {
    "tags": []
   },
   "outputs": [],
   "source": [
    "# Implements crossover for a pemrutation representation\n",
    "def combine(parentA, parentB, cRate):\n",
    "  if (random.random() <= cRate):\n",
    "    cPoint = numpy.random.randint(1, len(parentA))   \n",
    "    offspringA = numpy.append(parentA[0:cPoint], parentB)\n",
    "    _, idx = numpy.unique(offspringA, return_index=True)\n",
    "    offspringA = offspringA[numpy.sort(idx)]\n",
    "\n",
    "    offspringB = numpy.append(parentB[0:cPoint], parentA)\n",
    "    _, idx = numpy.unique(offspringB, return_index=True)\n",
    "    offspringB = offspringB[numpy.sort(idx)]\n",
    "  else:\n",
    "    offspringA = numpy.copy(parentA)\n",
    "    offspringB = numpy.copy(parentB)\n",
    "  return offspringA, offspringB"
   ]
  },
  {
   "cell_type": "markdown",
   "metadata": {},
   "source": [
    "## Mutation"
   ]
  },
  {
   "cell_type": "code",
   "execution_count": 4,
   "metadata": {},
   "outputs": [],
   "source": [
    "# Implements swap mutation\n",
    "def mutate(individual, mRate):\n",
    "  idx1 = random.randint(0, len(individual)-1)\n",
    "  idx2 = random.randint(0, len(individual)-1)\n",
    "  if (random.random() <= mRate):\n",
    "      individual[idx1], individual[idx2] = individual[idx2], individual[idx1]  \n",
    "  return individual"
   ]
  },
  {
   "cell_type": "markdown",
   "metadata": {},
   "source": [
    "## Evaluation"
   ]
  },
  {
   "cell_type": "code",
   "execution_count": 13,
   "metadata": {},
   "outputs": [],
   "source": [
    "def evaluate(individual, problem, capacity):\n",
    "    value = 0\n",
    "    weight = 0\n",
    "\n",
    "    for i in range(len(individual)):\n",
    "        item_weight = problem.iloc[i, 0]\n",
    "        item_value = problem.iloc[i, 1]\n",
    "\n",
    "        if weight + item_weight > capacity:\n",
    "            break\n",
    "        else:\n",
    "            weight += item_weight\n",
    "            value += item_value\n",
    "\n",
    "    return value"
   ]
  },
  {
   "cell_type": "code",
   "execution_count": 6,
   "metadata": {},
   "outputs": [],
   "source": [
    "def print_solution(individual, problem, capacity):\n",
    "    weight = 0\n",
    "    items = []\n",
    "\n",
    "    for i in range(len(individual)):\n",
    "        item_weight = problem.iloc[i, 0]\n",
    "\n",
    "        if weight + item_weight > capacity:\n",
    "            return len(items)\n",
    "            break\n",
    "        else:\n",
    "            items.append(individual[i])\n",
    "            weight += item_weight"
   ]
  },
  {
   "cell_type": "markdown",
   "metadata": {},
   "source": [
    "## Genetic Algorithm"
   ]
  },
  {
   "cell_type": "code",
   "execution_count": 7,
   "metadata": {},
   "outputs": [],
   "source": [
    "def geneticAlgorithm(problem, populationSize, generations, cRate, mRate, capacity):\n",
    "  # Creates the initial population (it also evaluates it)\n",
    "  population = [None] * populationSize\n",
    "  evaluation = [None] * populationSize  \n",
    "  for i in range(populationSize):\n",
    "    individual = createIndividual(len(problem))\n",
    "    population[i] = individual\n",
    "    evaluation[i] = evaluate(individual, problem, capacity)\n",
    "  # Keeps a record of the best individual found so far\n",
    "  index = 0\n",
    "  for i in range(1, populationSize):\n",
    "    if (evaluation[i] > evaluation[index]):\n",
    "      index = i\n",
    "  bestIndividual = population[index]\n",
    "  bestEvaluation = evaluation[index]\n",
    "  \n",
    "  # Runs the evolutionary process    \n",
    "  for i in range(generations):\n",
    "    k = 0\n",
    "    newPopulation = [None] * populationSize    \n",
    "    for j in range(populationSize // 2):\n",
    "      parentA = select(population, evaluation, 3)\n",
    "      parentB = select(population, evaluation, 3)\n",
    "      newPopulation[k], newPopulation[k + 1] = combine(parentA, parentB, cRate)       \n",
    "      k = k + 2    \n",
    "    population = newPopulation\n",
    "    for i in range(populationSize):\n",
    "      population[i] = mutate(population[i], mRate)\n",
    "      evaluation[i] = evaluate(population[i], problem, capacity)\n",
    "      # Keeps a record of the best individual found so far\n",
    "      if (evaluation[i] > bestEvaluation):\n",
    "        bestEvaluation = evaluation[i]\n",
    "        bestIndividual = population[i]\n",
    "  return bestIndividual, bestEvaluation"
   ]
  },
  {
   "cell_type": "markdown",
   "metadata": {},
   "source": [
    "## Driver Program"
   ]
  },
  {
   "cell_type": "code",
   "execution_count": 15,
   "metadata": {
    "tags": []
   },
   "outputs": [
    {
     "name": "stdout",
     "output_type": "stream",
     "text": [
      "Instance: ks_10000_0\n",
      "Evaluation: 937157.0\n",
      "Total items in knapsack: 9\n",
      "Solution: [6252 4684 1731 4742 4521 6340  576 5202 6363]\n",
      "---------------------------------------\n",
      "Instance: ks_1000_0\n",
      "Evaluation: 100890.0\n",
      "Total items in knapsack: 10\n",
      "Solution: [527 852 507 554 102 364 586 230 145 365]\n",
      "---------------------------------------\n",
      "Instance: ks_100_0\n",
      "Evaluation: 90000.0\n",
      "Total items in knapsack: 1\n",
      "Solution: [24]\n",
      "---------------------------------------\n",
      "Instance: ks_100_1\n",
      "Evaluation: 1230813.0\n",
      "Total items in knapsack: 36\n",
      "Solution: [75 46 97 48 56 93 61 77 21 44 79 82 67 16 99 18 32 52 86 38 42 84 89 63\n",
      " 83 34 33  6 74  1 96 28 51 13 43  0]\n",
      "---------------------------------------\n",
      "Instance: ks_100_2\n",
      "Evaluation: 9682.0\n",
      "Total items in knapsack: 9\n",
      "Solution: [13 77 86 26 21 54  5 94 40]\n",
      "---------------------------------------\n",
      "Instance: ks_106_0\n",
      "Evaluation: 92679972.0\n",
      "Total items in knapsack: 11\n",
      "Solution: [93 41 66 86 60 68 87 11 82 55 99]\n",
      "---------------------------------------\n",
      "Instance: ks_19_0\n",
      "Evaluation: 11476.0\n",
      "Total items in knapsack: 6\n",
      "Solution: [ 0 10 17 16  9  2]\n",
      "---------------------------------------\n",
      "Instance: ks_200_0\n",
      "Evaluation: 90001.0\n",
      "Total items in knapsack: 1\n",
      "Solution: [163]\n",
      "---------------------------------------\n",
      "Instance: ks_200_1\n",
      "Evaluation: 954951.0\n",
      "Total items in knapsack: 52\n",
      "Solution: [ 62  57 182 153  51 120  84  41 107   6  25 159  48  40 104 194   2  56\n",
      " 114  29  81 139 111 199 185 180  72 196 142  46 152 146  36 130 134  93\n",
      " 165  65  21   4  97  50  76  42 105  13 133  59  58  37 126  79]\n",
      "---------------------------------------\n",
      "Instance: ks_300_0\n",
      "Evaluation: 1673951.0\n",
      "Total items in knapsack: 72\n",
      "Solution: [128 129 156 112 242 193 143  77 134  12 222 227 199 160   7 194  66 152\n",
      "  16 145 245  46  91  28 149 188 187  23 159 184  25  93 170  75 295 286\n",
      " 106 176 234 228  41 186 299 150 274  32 153 154 142  11  80  34  38 208\n",
      "  63 151 264 180 293  84 164 178 270 262  42 116 257  82  26 285 231 173]\n",
      "---------------------------------------\n",
      "Instance: ks_30_0\n",
      "Evaluation: 90000.0\n",
      "Total items in knapsack: 1\n",
      "Solution: [11]\n",
      "---------------------------------------\n",
      "Instance: ks_400_0\n",
      "Evaluation: 3834149.0\n",
      "Total items in knapsack: 174\n",
      "Solution: [327 344 146 320 397 326 342 276  70 362 379 111 103 244 243 124 374 271\n",
      " 364 263 277  86 169  58 164 275 166   1 155 161   9  79 184 330  81 290\n",
      " 343  93 361 109 304 345 143 347 325 229  11 262  12  38 309  48 261 321\n",
      "  43 108  45  91 394 193 206  84  50 157 280 221 337 170  99 171 349 285\n",
      "  17 226 217 116 392 313 150 371 176 147 177 227 396 318 308 352 291 357\n",
      " 258  49  51 365  41 267 156 341 212 173 363 131 314 378 250 380  40 168\n",
      "  59 354 202 122  65 381  90 383 120 218 353  47  74 144  64 186 245 119\n",
      " 272 228 110  28 208 233 293  95 105  13 255  68 260 222  97 190 141 132\n",
      " 225 112 377 270 393 134 372 348 138   4  18 199  53 214 220 174 346 265\n",
      "   2 179 331 216 307 235 160  77 388  20 254 298]\n",
      "---------------------------------------\n",
      "Instance: ks_40_0\n",
      "Evaluation: 90001.0\n",
      "Total items in knapsack: 1\n",
      "Solution: [31]\n",
      "---------------------------------------\n",
      "Instance: ks_45_0\n",
      "Evaluation: 15467.0\n",
      "Total items in knapsack: 8\n",
      "Solution: [29 35  1 20 31 38 27 26]\n",
      "---------------------------------------\n",
      "Instance: ks_4_0\n",
      "Evaluation: 18.0\n",
      "Total items in knapsack: 2\n",
      "Solution: [3 2]\n",
      "---------------------------------------\n",
      "Instance: ks_500_0\n",
      "Evaluation: 44308.0\n",
      "Total items in knapsack: 10\n",
      "Solution: [ 32 234 109 452 345 228 352 407 230 354]\n",
      "---------------------------------------\n",
      "Instance: ks_50_0\n",
      "Evaluation: 139864.0\n",
      "Total items in knapsack: 13\n",
      "Solution: [44  4 20 13 12 38 24 36 21 40 37 18 26]\n",
      "---------------------------------------\n",
      "Instance: ks_50_1\n",
      "Evaluation: 4291.0\n",
      "Total items in knapsack: 10\n",
      "Solution: [23 36 33 17 48 10 45 43 26  4]\n",
      "---------------------------------------\n",
      "Instance: ks_60_0\n",
      "Evaluation: 90000.0\n",
      "Total items in knapsack: 1\n",
      "Solution: [22]\n",
      "---------------------------------------\n",
      "Instance: ks_82_0\n",
      "Evaluation: 54099045.0\n",
      "Total items in knapsack: 12\n",
      "Solution: [64 15 38 21 73  5  8 70 13 17 74 23]\n",
      "---------------------------------------\n"
     ]
    }
   ],
   "source": [
    "# Before running the code, we must initialize the random number generators.\n",
    "numpy.random.seed(42)\n",
    "random.seed(numpy.random.randint(10000))\n",
    "instance_dir = \"./Problems/\" # Write your local KS instance directory\n",
    "instances = os.listdir(instance_dir)\n",
    "\n",
    "for instance in instances:\n",
    "    df = pd.read_csv(instance_dir + instance, header = None)\n",
    "    df.head()\n",
    "\n",
    "    # Define parameters for genetic algorithm\n",
    "    problem, header = df.drop(df.head(1).index),df.head(1)\n",
    "    capacity = int(header[1])\n",
    "    populationSize = 100\n",
    "    generations = 100\n",
    "    cRate = 1\n",
    "    mRate = 0.05\n",
    "\n",
    "    # Solve the problem\n",
    "    solution, evaluation = geneticAlgorithm(problem, populationSize, generations, cRate, mRate, capacity)\n",
    "    # print(\"Solution\")\n",
    "    # print(solution)\n",
    "    num_items = print_solution(solution, problem, capacity)\n",
    "    print(\"Instance: \" + instance)\n",
    "    print(\"Evaluation: \" + str(evaluation))\n",
    "    print(\"Total items in knapsack: \" + str(num_items))\n",
    "    print(\"Solution: \" + str(solution[0:num_items]))\n",
    "    print(\"---------------------------------------\")\n"
   ]
  },
  {
   "cell_type": "code",
   "execution_count": null,
   "metadata": {},
   "outputs": [],
   "source": []
  }
 ],
 "metadata": {
  "kernelspec": {
   "display_name": "Python 3",
   "language": "python",
   "name": "python3"
  },
  "language_info": {
   "codemirror_mode": {
    "name": "ipython",
    "version": 3
   },
   "file_extension": ".py",
   "mimetype": "text/x-python",
   "name": "python",
   "nbconvert_exporter": "python",
   "pygments_lexer": "ipython3",
   "version": "3.8.3"
  }
 },
 "nbformat": 4,
 "nbformat_minor": 2
}
