{
 "cells": [
  {
   "cell_type": "code",
   "execution_count": 2,
   "metadata": {},
   "outputs": [
    {
     "data": {
      "text/plain": [
       "19"
      ]
     },
     "execution_count": 2,
     "metadata": {},
     "output_type": "execute_result"
    }
   ],
   "source": [
    "import itertools\n",
    "def possibleSchema(pop):\n",
    "    uniq_schema = set()\n",
    "    for ind in pop:\n",
    "        n = len(ind) # number of genes\n",
    "        indxs = list(range(0, n)) # possible indices of individual\n",
    "        for r in range(1, n + 1):\n",
    "            indx_combs = list(itertools.combinations(indxs, r))\n",
    "            for c in indx_combs:\n",
    "                temp = ind.copy()\n",
    "                for i in c:\n",
    "                    temp[i] = '*'\n",
    "                uniq_schema.add(tuple(temp))\n",
    "    return uniq_schema\n",
    "\n",
    "pop = [ ['1', '0', '0'], ['0', '0', '1'], ['1', '1', '1'], ['0', '1', '0'], ['0', '0', '0'] ]\n",
    "pop_schemata = possibleSchema(pop)\n",
    "len(pop_schemata)"
   ]
  },
  {
   "cell_type": "code",
   "execution_count": 3,
   "metadata": {},
   "outputs": [
    {
     "name": "stdout",
     "output_type": "stream",
     "text": [
      "28\n"
     ]
    },
    {
     "data": {
      "text/plain": [
       "{('*', '*', '*'),\n",
       " ('*', '*', '2'),\n",
       " ('*', '*', '3'),\n",
       " ('*', '*', '4'),\n",
       " ('*', '*', '5'),\n",
       " ('*', '*', '9'),\n",
       " ('*', '1', '*'),\n",
       " ('*', '1', '2'),\n",
       " ('*', '1', '9'),\n",
       " ('*', '4', '*'),\n",
       " ('*', '4', '4'),\n",
       " ('*', '8', '*'),\n",
       " ('*', '8', '5'),\n",
       " ('*', '9', '*'),\n",
       " ('*', '9', '3'),\n",
       " ('3', '*', '*'),\n",
       " ('3', '*', '3'),\n",
       " ('3', '*', '4'),\n",
       " ('3', '4', '*'),\n",
       " ('3', '9', '*'),\n",
       " ('7', '*', '*'),\n",
       " ('7', '*', '2'),\n",
       " ('7', '1', '*'),\n",
       " ('9', '*', '*'),\n",
       " ('9', '*', '5'),\n",
       " ('9', '*', '9'),\n",
       " ('9', '1', '*'),\n",
       " ('9', '8', '*')}"
      ]
     },
     "execution_count": 3,
     "metadata": {},
     "output_type": "execute_result"
    }
   ],
   "source": [
    "pop2 = [ ['9', '1', '9'], ['7', '1', '2'], ['9', '8', '5'], ['3', '9', '3'], ['3', '4', '4'] ]\n",
    "pop2_schemata = possibleSchema(pop2)\n",
    "print(len(pop2_schemata))\n",
    "pop2_schemata"
   ]
  },
  {
   "cell_type": "code",
   "execution_count": null,
   "metadata": {},
   "outputs": [],
   "source": []
  }
 ],
 "metadata": {
  "kernelspec": {
   "display_name": "Python 3",
   "language": "python",
   "name": "python3"
  },
  "language_info": {
   "codemirror_mode": {
    "name": "ipython",
    "version": 3
   },
   "file_extension": ".py",
   "mimetype": "text/x-python",
   "name": "python",
   "nbconvert_exporter": "python",
   "pygments_lexer": "ipython3",
   "version": "3.8.3"
  }
 },
 "nbformat": 4,
 "nbformat_minor": 4
}
